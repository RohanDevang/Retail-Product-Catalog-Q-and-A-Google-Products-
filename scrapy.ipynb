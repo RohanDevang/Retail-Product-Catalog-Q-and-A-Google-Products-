{
 "cells": [
  {
   "cell_type": "code",
   "execution_count": 12,
   "metadata": {},
   "outputs": [
    {
     "name": "stdout",
     "output_type": "stream",
     "text": [
      "Product: Google 30W USB-C Power Charger\n",
      "Description: 30W USB-C Power Adapter - Google Store Skip Navigation Celebrate 25 years of Google with incredible deals on Pixel devices. Ends\n",
      "                9/23. Shop now 0 Sign in with Google Orders Preferred Care Subscriptions My Nest Home Settings Google 30W USB-C Power Charger Buy Buy Charge in a flash. The charger delivers up to 66% 1 more power to USB-C devices than the previous-generation\n",
      "                                      18W USB‑C charger. 2 Charge in a flash. The charger delivers up to 66% 1 more power to USB-C devices than the previous-generation\n",
      "                                      18W USB‑C charger. 2 Charge on the go. Charge all of your Google devices and any\n",
      "                                      third-party USB‑C device. Charge on the go. Charge all of your Google devices and any\n",
      "                                      third-party USB‑C device. Tech Specs Input 100-240V, 50/60 Hz Output PD 20V⎓1.5A, 15V⎓2A, 5V/9V⎓3A;\n",
      "                                PPS 21V⎓1.5A. 11V⎓3A Max Power 30W Dimensions Charger: 6.805 x 4.3 x 2.7\n",
      "                                cm Cable: 39.4 in (1m) Weight 2.8 oz (71 g) Color White Materials Polycarbonate – 50%\n",
      "                                post-consumer recycled material Port USB-C What's in the box Google 30W USB-C Power Charger and Cable USB-C Charger with cable 1m USB-C to USB-C Safety and warranty\n",
      "                                guide Google 30W USB-C Power Charger USB-C Charger Safety and warranty\n",
      "                                guide Not included with Pixel 6 and\n",
      "                                Pixel 6 Pro Compatibility USB-C enabled devices 1 Charging speed varies and depends on device capabilities, battery age, usage during\n",
      "                              charging, and many other factors. 2 USB\n",
      "                              Type-C and USB-C are trademarks of USB Implementers Forum.\n"
     ]
    }
   ],
   "source": [
    "from bs4 import BeautifulSoup\n",
    "\n",
    "# Load the HTML content from the file\n",
    "with open(r\"C:\\Users\\rddvn\\OneDrive\\Desktop\\project\\google-store\\New folder\\Google 30W USB-C Power Charger.html\", encoding='utf-8') as file:\n",
    "    content = file.read()\n",
    "\n",
    "# Parse the HTML content using BeautifulSoup\n",
    "soup = BeautifulSoup(content, 'html.parser')  # Corrected parser\n",
    "# Extract product name (adjust this based on the structure of your HTML)\n",
    "# For example, if the product name is in an <h1> tag\n",
    "product_name = soup.find('h1').text.strip() if soup.find('h1') else 'Unknown Product'\n",
    "\n",
    "# Remove script and style tags\n",
    "for script in soup(['script', 'style']):\n",
    "    script.decompose()\n",
    "\n",
    "# Extract all visible text from the HTML file\n",
    "text = soup.get_text(separator = ' ', strip = True)\n",
    "\n",
    "# Print or save the extracted data\n",
    "print(\"Product:\", product_name)\n",
    "print(\"Description:\", text)\n",
    "\n",
    "# Save the data to a file\n",
    "with open('scraped_output.txt', 'w', encoding='utf-8') as output_file:\n",
    "    output_file.write(f\"Product: {product_name}\\n\")\n",
    "    output_file.write(f\"Description: {text}\\n\")\n",
    "\n"
   ]
  }
 ],
 "metadata": {
  "kernelspec": {
   "display_name": "Python 3",
   "language": "python",
   "name": "python3"
  },
  "language_info": {
   "codemirror_mode": {
    "name": "ipython",
    "version": 3
   },
   "file_extension": ".py",
   "mimetype": "text/x-python",
   "name": "python",
   "nbconvert_exporter": "python",
   "pygments_lexer": "ipython3",
   "version": "3.11.3"
  }
 },
 "nbformat": 4,
 "nbformat_minor": 2
}

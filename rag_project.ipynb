{
 "cells": [
  {
   "cell_type": "code",
   "execution_count": 1,
   "metadata": {},
   "outputs": [
    {
     "data": {
      "text/plain": [
       "True"
      ]
     },
     "execution_count": 1,
     "metadata": {},
     "output_type": "execute_result"
    }
   ],
   "source": [
    "# import Libraries\n",
    "\n",
    "import os\n",
    "from langchain.chains.question_answering import load_qa_chain\n",
    "from langchain import OpenAI\n",
    "from langchain.embeddings.openai import OpenAIEmbeddings\n",
    "from langchain.schema import Document  # Correctly import Document class\n",
    "from langchain_community.chat_models import ChatOpenAI\n",
    "from langchain.llms import OpenAI\n",
    "\n",
    "from dotenv import load_dotenv\n",
    "load_dotenv()\n"
   ]
  },
  {
   "cell_type": "code",
   "execution_count": 2,
   "metadata": {},
   "outputs": [
    {
     "name": "stderr",
     "output_type": "stream",
     "text": [
      "C:\\Users\\rddvn\\AppData\\Local\\Temp\\ipykernel_23672\\3639277972.py:5: LangChainDeprecationWarning: The class `OpenAIEmbeddings` was deprecated in LangChain 0.0.9 and will be removed in 1.0. An updated version of the class exists in the :class:`~langchain-openai package and should be used instead. To use it run `pip install -U :class:`~langchain-openai` and import as `from :class:`~langchain_openai import OpenAIEmbeddings``.\n",
      "  embeddings= OpenAIEmbeddings(api_key = st.secrets['OPENAI_API_KEY'])\n"
     ]
    },
    {
     "data": {
      "text/plain": [
       "1536"
      ]
     },
     "execution_count": 2,
     "metadata": {},
     "output_type": "execute_result"
    }
   ],
   "source": [
    "# Embedding Technique of OPENAI\n",
    "\n",
    "import streamlit as st\n",
    "\n",
    "embeddings= OpenAIEmbeddings(api_key = st.secrets['OPENAI_API_KEY'])\n",
    "\n",
    "vectors = embeddings.embed_query('Welcome to Incredible INDIA.')\n",
    "\n",
    "len(vectors)"
   ]
  },
  {
   "cell_type": "code",
   "execution_count": 3,
   "metadata": {},
   "outputs": [
    {
     "name": "stderr",
     "output_type": "stream",
     "text": [
      "c:\\Users\\rddvn\\AppData\\Local\\Programs\\Python\\Python311\\Lib\\site-packages\\pinecone\\data\\index.py:1: TqdmWarning: IProgress not found. Please update jupyter and ipywidgets. See https://ipywidgets.readthedocs.io/en/stable/user_install.html\n",
      "  from tqdm.autonotebook import tqdm\n"
     ]
    },
    {
     "name": "stdout",
     "output_type": "stream",
     "text": [
      "{'dimension': 1536,\n",
      " 'index_fullness': 0.0,\n",
      " 'namespaces': {'': {'vector_count': 169}},\n",
      " 'total_vector_count': 169}\n"
     ]
    }
   ],
   "source": [
    "from pinecone import Pinecone\n",
    "import streamlit as st\n",
    "\n",
    "pc = Pinecone(api_key = os.environ['PINE_CONE_KEY'])\n",
    "index = pc.Index(\"vector-embeddings\")\n",
    "print(index.describe_index_stats())\n",
    "\n",
    "# Initialize OpenAI LLM and Embeddings\n",
    "embeddings = OpenAIEmbeddings(api_key = st.secrets['OPENAI_API_KEY'])"
   ]
  },
  {
   "cell_type": "code",
   "execution_count": null,
   "metadata": {},
   "outputs": [
    {
     "name": "stdout",
     "output_type": "stream",
     "text": [
      "[Document(metadata={}, page_content='**Product Category:** Mesh Wi-Fi Routers & Systems\\n**Vendor:** Google Store\\n**Promotion:** 25th-anniversary deals on Pixel devices (ending 9/23).\\n**Products Mentioned:**\\n* **Google Wifi:**\\n    * Description: A smart buy for reliable Wi-Fi.\\n    * Band Connectivity: Dual-band (2.4 and 5 GHz)\\n    * Top Speeds: Up to 1.2 Gbps\\n    * Performance: AC1200\\n    * Wi-Fi Coverage: 1500 sq ft per router\\n    * Number of Ethernet Ports: 2 per router\\n    * Compatibility: Not compatible with Nest Wifi Pro.\\n    * Materials: 49% post-consumer recycled content across its plastic \\nmechanical parts. \\n* **Nest Wifi Pro:**\\n    * Description: Our fastest, most powerful system with Wi-Fi 6E.\\n    * Band Connectivity: Tri-band (enhanced 2.4, 5, 6 GHz)\\n    * Top Speeds: Up to 5.4 Gbps\\n    * Performance: AXE5400\\n    * Wi-Fi Coverage: 2200 sq ft per router\\n    * Number of Ethernet Ports: 2 per router\\n    * Compatibility: Not compatible with older generations of Google Nest \\nWifi. \\n    * Materials: Made with approximately 60% recycled materials based on \\nproduct weight. \\n* **Nest Wifi (with smart speaker):**\\n    * Description: Even faster speeds and a built-in smart speaker.\\n    * Band Connectivity: Dual-band (2.4 and 5 GHz)\\n    * Top Speeds: Up to 2.2 Gbps (router) | 1.2 Gbps (point)\\n    * Performance: AC2200 per router, AC1200 per point\\n    * Wi-Fi Coverage: 2200 sq ft per router, 1600 sq ft per point\\n    * Number of Ethernet Ports: 2 per router/point\\n    * Compatibility: Not compatible with Nest Wifi Pro.\\n    * Materials: Router: External enclosure made from 45% post-consumer \\nrecycled plastic. Point: External enclosure made from 40% post-consumer \\nrecycled plastic. \\n**General Features (across systems):**\\n* Reliable whole home coverage.\\n* Simple setup and use.\\n* Great security.\\n* Automatic Wi-Fi speed optimization.\\n* Self-monitoring.\\n* Self-diagnosing.\\n* Automatically fixes common Wi-Fi issues.\\n* Security: WPA3, automatic software and security updates, encryption and \\nhack protection, parental controls. \\n* Matter Thread border router.\\n* Google Home app setup.\\n'), Document(metadata={}, page_content='**Requirements:**\\n*   TV with HDMI port\\n*   Wi-Fi network\\n*   Google Account\\n*   Power outlet\\n*   Compatible mobile device (for setup)\\n*   Reliable broadband internet connection\\n*   HD-capable TV (for HD version)\\n*   4K-capable TV (for 4K version)\\n**Additional Notes:**\\n*   Free shipping on every order.\\n*   Device recycling available.\\n*   Subscriptions may be required for some services.\\n*   Service availability varies by country/region.\\n*   Some features require Google Assistant and/or compatible smart devices.\\n*   Ethernet adapter sold separately.\\n'), Document(metadata={}, page_content='**Product:** Google Wi-Fi Systems\\n**Available Options:**\\n* Google Wifi\\n* Nest Wifi\\n* Nest Wifi Pro\\n**General Features:**\\n* Mesh Wi-Fi for broader coverage than traditional routers.\\n* Stronger signal throughout the home.\\n* Dependable, fast Wi-Fi for seamless video calls and streaming.\\n* Supports multiple 4K video streams simultaneously.\\n* Each point handles up to 100 connected devices (300 in a 3-pack).\\n* Easy setup with the Google Home app.\\n* Automatic security updates.\\n**Specific Product Details:**\\n**Google Wifi:**\\n* Wi-Fi Type: Wi-Fi 5\\n* Top Speeds: Up to 1.2 Gbps\\n* Bands: Dual-band (2.4 GHz and 5 GHz)\\n* Coverage: 1500 sq ft per router\\n* Compatibility: Not compatible with Nest Wifi Pro\\n**Nest Wifi:**\\n* Wi-Fi Type: Wi-Fi 5\\n* Top Speeds: Up to 2.2 Gbps\\n* Bands: Dual-band (2.4 GHz and 5 GHz)\\n* Coverage: 2200 sq ft per router\\n* Compatibility: Compatible with other Nest Wifi products\\n**Nest Wifi Pro:**\\n* Wi-Fi Type: Wi-Fi 6E\\n* Top Speeds: Up to 5.4 Gbps\\n* Bands: Tri-band (enhanced 2.4 GHz, 5 GHz, 6 GHz)\\n* Coverage: 2200 sq ft per router\\n* Compatibility: Not compatible with older devices\\n**Google Home App Features:**\\n* Set up, manage, and control Wi-Fi and compatible smart home devices.\\n* Monitor network and connected devices.\\n* Create guest networks.\\n* Set up parental controls.\\n**Smart Home Integration:**\\n* Supports Matter, the universal standard for smart home compatibility.\\n* Nest Wifi Pro and Nest Wifi have a built-in Thread border router for \\nconnecting Thread mesh networks. \\n')]\n",
      "**Google Wifi:**\n",
      "- Band Connectivity: Dual-band (2.4 and 5 GHz)\n",
      "- Top Speeds: Up to 1.2 Gbps\n",
      "- Performance: AC1200\n",
      "- Wi-Fi Coverage: 1500 sq ft per router\n",
      "- Number of Ethernet Ports: 2 per router\n",
      "- Compatibility: Not compatible with Nest Wifi Pro\n",
      "- Materials: 49% post-consumer recycled content\n",
      "\n",
      "**Nest Wifi:**\n",
      "- Band Connectivity: Dual-band (2.4 and 5 GHz)\n",
      "- Top Speeds: Up to 2.2 Gbps (router), 1.2 Gbps (point)\n",
      "- Performance: AC2200 per router, AC1200 per point\n",
      "- Wi-Fi Coverage: 2200 sq ft per router, 1600 sq ft per point\n",
      "- Number of Ethernet Ports: 2 per router/point\n",
      "- Compatibility: Compatible with other Nest Wifi products\n",
      "- Materials: Router: 45% recycled plastic, Point: 40% recycled plastic\n",
      "\n",
      "**Nest Wifi Pro:**\n",
      "- Band Connectivity: Tri-band (2.4, 5, 6 GHz)\n",
      "- Top Speeds: Up to 5.4 Gbps\n",
      "- Performance: AXE5400\n",
      "- Wi-Fi Coverage: 2200 sq ft per router\n",
      "- Number of Ethernet Ports: 2 per router\n",
      "- Compatibility: Not compatible with older devices\n",
      "- Materials: Approximately 60% recycled materials based on product weight\n"
     ]
    }
   ],
   "source": [
    "## RAG process completely using OpenAI\n",
    "\n",
    "import openai\n",
    "\n",
    "# Set your OpenAI API key\n",
    "openai.api_key = st.secrets['OPENAI_API_KEY']\n",
    "\n",
    "def retrieve_query(query, k = 3):\n",
    "    # Generate embeddings for the query\n",
    "    query_embedding = embeddings.embed_query(query)\n",
    "    \n",
    "    # Query Pinecone for the top k similar documents\n",
    "    results = index.query(vector=query_embedding, top_k=k, include_metadata=True)\n",
    "    \n",
    "    # Extract the documents from the results and wrap them in Document objects\n",
    "    matching_results = [Document(page_content=result['metadata']['text']) for result in results['matches']]\n",
    "\n",
    "    print(matching_results)\n",
    "    return matching_results\n",
    "\n",
    "\n",
    "def generate_text_gpt4(prompt, max_tokens = 400):\n",
    "    # Use openai.chat.completions.create() instead of openai.Completion.create()\n",
    "    response = openai.chat.completions.create(\n",
    "        model=\"gpt-4o\",\n",
    "        messages=[\n",
    "            {\"role\": \"system\", \"content\": \"You are a helpful assistant. Please avoid using the '*' symbol in your answer\"},\n",
    "            {\"role\": \"user\", \"content\": prompt}\n",
    "        ],\n",
    "        max_tokens=max_tokens,\n",
    "        n=1,  # number of completions to generate\n",
    "        stop=None,  # stop sequence (optional)\n",
    "        temperature=0.7  # control creativity (0 to 1)\n",
    "    )\n",
    "    # Access the content of the generated text\n",
    "    return response.choices[0].message.content\n",
    "\n",
    "def answer_from_doc_search(doc_search, query):\n",
    "    # Combine the documents from doc_search into a single prompt\n",
    "    combined_docs = \"\\n\\n\".join(doc.page_content for doc in doc_search)  # Adjusted to doc.page_content to access text correctly\n",
    "    prompt = f\"Answer the question concisely and precisely based on the following documents. Please avoid using the '*' symbol in your answer.\\n\\nQuestion: {query}\\n\\nDocuments:\\n{combined_docs}\"\n",
    "\n",
    "    # Generate the answer using GPT-4\n",
    "    answer = generate_text_gpt4(prompt)\n",
    "    return answer\n",
    "\n",
    "# Example usage\n",
    "\n",
    "query = \"list all wifi devices\"\n",
    "doc_search = retrieve_query(query)\n",
    "\n",
    "generated_answer = answer_from_doc_search(doc_search, query)\n",
    "print(generated_answer)\n",
    "\n",
    "\n"
   ]
  },
  {
   "cell_type": "code",
   "execution_count": 4,
   "metadata": {},
   "outputs": [
    {
     "name": "stdout",
     "output_type": "stream",
     "text": [
      "['* 1m USB-C to USB-C cable (USB 2.0)\\n* Quick Start Guide\\n* Quick Switch Adapter\\n* SIM tool\\n* (30W USB-C Power Charger sold separately)\\nSpecial Offers (at the time of the webpage snapshot):\\n* 3 months of YouTube Premium\\n* 6 months of Google One with 2TB cloud storage\\nCarrier Compatibility:\\n* Unlocked, works with most major carriers\\n* eSIM support\\n* Carrier activation available with AT&T and Verizon through Google Store\\nAdditional Information:\\n* Preferred Care available for purchase\\n* Trade-in program available\\n* Google Store financing options\\n* Free shipping (lowest cost option)\\n', 'thermostats. \\n* **Nest Power Connector:**  Alternative to C-wire for power connection.\\n**Additional Information:**\\n* Free shipping on orders over $35.\\n* Financing options available.\\n* Device recycling program.\\n* Google is committed to making sustainable and accessible products.\\n* Voice control requires a compatible smart device.\\n* Nest Renew\\'s \"prioritize less expensive energy\" is only available for \\ncertain time-of-use utility rates. \\n', '**Requirements:**\\n*   TV with HDMI port\\n*   Wi-Fi network\\n*   Google Account\\n*   Power outlet\\n*   Compatible mobile device (for setup)\\n*   Reliable broadband internet connection\\n*   HD-capable TV (for HD version)\\n*   4K-capable TV (for 4K version)\\n**Additional Notes:**\\n*   Free shipping on every order.\\n*   Device recycling available.\\n*   Subscriptions may be required for some services.\\n*   Service availability varies by country/region.\\n*   Some features require Google Assistant and/or compatible smart devices.\\n*   Ethernet adapter sold separately.\\n']\n",
      "Based on the provided documents, the devices that support C-type cable are:\n",
      "\n",
      "* The device mentioned in the first document (likely a phone or tablet, but the exact model is not specified)\n",
      "* Nest Power Connector (thermostat)\n",
      "\n",
      "These are the only devices mentioned in the documents that have a reference to a C-type cable or USB-C connectivity.\n"
     ]
    }
   ],
   "source": [
    "## RAG process using llamma3 & OpenAI\n",
    " \n",
    "from langchain_groq import ChatGroq\n",
    "\n",
    "\n",
    "# Set the ChatGroq with environment protected API key and desired model\n",
    "llm = ChatGroq(\n",
    "    temperature = 0.7,\n",
    "    groq_api_key = os.environ['GROQ_API_KEY'],  # Use environment variable for security\n",
    "    model_name = \"llama3-70b-8192\"\n",
    ")\n",
    "\n",
    "system_instruction = \"You are a helpful assistant.\"\n",
    "\n",
    "def retrieve_query(query, k = 3):\n",
    "    # Ensure embeddings and index are properly defined and replace with your embedding model and vector store details\n",
    "    query_embedding = embeddings.embed_query(query)\n",
    "    results = index.query(vector=query_embedding, top_k=k, include_metadata=True)\n",
    "    \n",
    "    matching_results = [result['metadata']['text'] for result in results['matches']]\n",
    "    \n",
    "    print(matching_results)\n",
    "    return matching_results\n",
    "\n",
    "\n",
    "def generate_text_groq(prompt, max_tokens = 400):\n",
    "    response = llm.invoke(prompt)\n",
    "    return response.content  # Access content directly\n",
    "\n",
    "\n",
    "def answer_from_doc_search(doc_search, query):\n",
    "    combined_docs = \"\\n\\n\".join(doc for doc in doc_search)\n",
    "    prompt = f\"{system_instruction}\\n\\nAnswer the question concisely and accurately based on the following documents.\\n\\nQuestion: {query}\\n\\nDocuments:\\n{combined_docs} in structured and readable format \"\n",
    "\n",
    "    answer = generate_text_groq(prompt)\n",
    "    return answer\n",
    "\n",
    "query = \"which all devices support C-type cable ?\"\n",
    "doc_search = retrieve_query(query)\n",
    "generated_answer = answer_from_doc_search(doc_search, query)\n",
    "print(generated_answer)"
   ]
  },
  {
   "cell_type": "code",
   "execution_count": null,
   "metadata": {},
   "outputs": [],
   "source": []
  },
  {
   "cell_type": "code",
   "execution_count": null,
   "metadata": {},
   "outputs": [],
   "source": [
    "import openai\n",
    "\n",
    "# Set your OpenAI API key\n",
    "openai.api_key = st.secrets['OPENAI_API_KEY']\n",
    "\n",
    "def generate_text_gpt4(prompt, max_tokens=200):\n",
    "\n",
    "    # Use openai.chat.completions.create() instead of openai.Completion.create()\n",
    "    response = openai.chat.completions.create(\n",
    "        model=\"gpt-4\",\n",
    "        messages=[\n",
    "            {\"role\": \"system\", \"content\": \"You are a helpful assistant.\"},\n",
    "            {\"role\": \"user\", \"content\": prompt}\n",
    "        ],\n",
    "        max_tokens=max_tokens,\n",
    "        n=1,  # number of completions to generate\n",
    "        stop=None,  # stop sequence (optional)\n",
    "        temperature=0.7  # control creativity (0 to 1)\n",
    "    )\n",
    "    # Access the content of the generated text\n",
    "    return response.choices[0].message.content\n",
    "\n",
    "# Example usage\n",
    "prompt = \"Write short 10 facts on India\"\n",
    "generated_text = generate_text_gpt4(prompt)\n",
    "print(generated_text)"
   ]
  }
 ],
 "metadata": {
  "kernelspec": {
   "display_name": "Python 3",
   "language": "python",
   "name": "python3"
  },
  "language_info": {
   "codemirror_mode": {
    "name": "ipython",
    "version": 3
   },
   "file_extension": ".py",
   "mimetype": "text/x-python",
   "name": "python",
   "nbconvert_exporter": "python",
   "pygments_lexer": "ipython3",
   "version": "3.11.3"
  }
 },
 "nbformat": 4,
 "nbformat_minor": 2
}
